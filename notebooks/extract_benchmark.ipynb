{
 "cells": [
  {
   "cell_type": "code",
   "execution_count": 1,
   "metadata": {},
   "outputs": [],
   "source": [
    "FILE_PATH = '../../data/raw/amz_products_small.jsonl.gz'\n"
   ]
  },
  {
   "cell_type": "code",
   "execution_count": 2,
   "metadata": {},
   "outputs": [
    {
     "name": "stdout",
     "output_type": "stream",
     "text": [
      "CPU times: user 1min, sys: 3.81 s, total: 1min 4s\n",
      "Wall time: 1min 3s\n"
     ]
    }
   ],
   "source": [
    "%%time\n",
    "import extract\n",
    "import fire\n",
    "\n",
    "\n",
    "\n",
    "def run():\n",
    "    data = extract.from_file(FILE_PATH)\n",
    "    # print(data.head(10))\n",
    "    \n",
    "run()\n",
    "    \n",
    "    \n",
    "    \n",
    "# if __name__ == \"__main__\":\n",
    "#     fire.Fire(run)"
   ]
  },
  {
   "cell_type": "code",
   "execution_count": 4,
   "metadata": {},
   "outputs": [
    {
     "ename": "NameError",
     "evalue": "name 'data' is not defined",
     "output_type": "error",
     "traceback": [
      "\u001b[0;31m---------------------------------------------------------------------------\u001b[0m",
      "\u001b[0;31mNameError\u001b[0m                                 Traceback (most recent call last)",
      "File \u001b[0;32m<timed exec>:2\u001b[0m\n",
      "\u001b[0;31mNameError\u001b[0m: name 'data' is not defined"
     ]
    }
   ],
   "source": [
    "%%time\n",
    "# Combine text columns\n",
    "data['text'] = data['title'] + \" \" + data['description'] + \" \" + data['brand'] + \" \" + data['feature'].apply(' '.join) + \" \" + data['category']"
   ]
  },
  {
   "cell_type": "code",
   "execution_count": 2,
   "metadata": {},
   "outputs": [
    {
     "ename": "",
     "evalue": "",
     "output_type": "error",
     "traceback": [
      "\u001b[1;31mThe Kernel crashed while executing code in the current cell or a previous cell. \n",
      "\u001b[1;31mPlease review the code in the cell(s) to identify a possible cause of the failure. \n",
      "\u001b[1;31mClick <a href='https://aka.ms/vscodeJupyterKernelCrash'>here</a> for more info. \n",
      "\u001b[1;31mView Jupyter <a href='command:jupyter.viewOutput'>log</a> for further details."
     ]
    }
   ],
   "source": [
    "%%time\n",
    "import pandas as pd\n",
    "\n",
    "# Load JSON data\n",
    "df = pd.read_json(FILE_PATH, lines=True)\n",
    "df.head(5)\n",
    "\n"
   ]
  },
  {
   "cell_type": "code",
   "execution_count": 3,
   "metadata": {},
   "outputs": [
    {
     "name": "stderr",
     "output_type": "stream",
     "text": [
      "[Stage 0:>                                                          (0 + 1) / 1]\r"
     ]
    },
    {
     "name": "stdout",
     "output_type": "stream",
     "text": [
      "CPU times: user 5.2 ms, sys: 4.6 ms, total: 9.8 ms\n",
      "Wall time: 22.1 s\n"
     ]
    },
    {
     "name": "stderr",
     "output_type": "stream",
     "text": [
      "                                                                                \r"
     ]
    }
   ],
   "source": [
    "%%time\n",
    "from pyspark.sql import SparkSession\n",
    "from pyspark.sql.functions import concat_ws, col\n",
    "\n",
    "spark = SparkSession.builder \\\n",
    "    .appName(\"BigDataProcessing\") \\\n",
    "    .master(\"local[*]\") \\\n",
    "    .config(\"spark.driver.memory\", \"4g\") \\\n",
    "    .config(\"spark.executor.memory\", \"4g\") \\\n",
    "    .getOrCreate()\n",
    "\n",
    "# Load JSON data\n",
    "df = spark.read.json(FILE_PATH)\n"
   ]
  },
  {
   "cell_type": "code",
   "execution_count": 4,
   "metadata": {},
   "outputs": [
    {
     "name": "stdout",
     "output_type": "stream",
     "text": [
      "+--------+--------------------+----------+---------------+--------------------+--------------------+--------------------+--------------------+----------+-------+--------------------+--------------------+\n",
      "|also_buy|           also_view|      asin|          brand|            category|         description|             feature|               image|  main_cat|  price|               title|                text|\n",
      "+--------+--------------------+----------+---------------+--------------------+--------------------+--------------------+--------------------+----------+-------+--------------------+--------------------+\n",
      "|      []|                  []|B00ADZ3WUM|            NSI|[Automotive, Exte...|[Bumpersticker: A...|[Official License...|                  []|Automotive|  $4.68|NSI - A Day Witho...|NSI - A Day Witho...|\n",
      "|      []|                  []|B005VII5IU| General Motors|[Automotive, Repl...|[This is the offi...|[This is the offi...|                  []|Automotive|$213.16|Genuine GM Parts ...|Genuine GM Parts ...|\n",
      "|      []|                  []|B001QTEKVO|            JLM|[Automotive, Ligh...|[HID Xenon lights...|[Will run for app...|[https://images-n...|Automotive|       | JLM HID Conversi...| JLM HID Conversi...|\n",
      "|      []|[B007KLMLRM, B007...|B00HWI43Q0|  Spec-D Tuning|[Automotive, Ligh...|[Brand new in ori...|[Features 1 pair ...|[https://images-n...|Automotive|  $8.63|Spec-D Tuning LT-...|Spec-D Tuning LT-...|\n",
      "|      []|                  []|B0050VHRFK|Oracle Lighting|[Automotive, Repl...|[Oracle Flush LED...|[Heavy stainless ...|[https://images-n...|Automotive| $19.95|Oracle Lighting L...|Oracle Lighting L...|\n",
      "+--------+--------------------+----------+---------------+--------------------+--------------------+--------------------+--------------------+----------+-------+--------------------+--------------------+\n",
      "only showing top 5 rows\n",
      "\n",
      "CPU times: user 3.61 ms, sys: 5.89 ms, total: 9.5 ms\n",
      "Wall time: 996 ms\n"
     ]
    }
   ],
   "source": [
    "%%time\n",
    "from pyspark.sql.functions import concat_ws, col\n",
    "\n",
    "# Combine text columns\n",
    "df = df.withColumn(\"text\", concat_ws(\" \", col(\"title\"), col(\"description\"), col(\"brand\"), col(\"feature\"), col(\"category\")))\n",
    "\n",
    "# Trigger an action to evaluate the transformation\n",
    "df.show(5)\n",
    "\n",
    "# Stop Spark session to free up resources\n",
    "spark.stop()\n"
   ]
  }
 ],
 "metadata": {
  "kernelspec": {
   "display_name": "training",
   "language": "python",
   "name": "python3"
  },
  "language_info": {
   "codemirror_mode": {
    "name": "ipython",
    "version": 3
   },
   "file_extension": ".py",
   "mimetype": "text/x-python",
   "name": "python",
   "nbconvert_exporter": "python",
   "pygments_lexer": "ipython3",
   "version": "3.10.14"
  }
 },
 "nbformat": 4,
 "nbformat_minor": 2
}
